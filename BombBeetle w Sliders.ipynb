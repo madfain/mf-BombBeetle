{
 "cells": [
  {
   "cell_type": "code",
   "execution_count": 1,
   "metadata": {},
   "outputs": [
    {
     "name": "stdout",
     "output_type": "stream",
     "text": [
      "Changing Mass\n"
     ]
    },
    {
     "data": {
      "application/vnd.jupyter.widget-view+json": {
       "model_id": "763914dbeae64404b94c6254bbb9bb4f",
       "version_major": 2,
       "version_minor": 0
      },
      "text/html": [
       "<p>Failed to display Jupyter Widget of type <code>interactive</code>.</p>\n",
       "<p>\n",
       "  If you're reading this message in the Jupyter Notebook or JupyterLab Notebook, it may mean\n",
       "  that the widgets JavaScript is still loading. If this message persists, it\n",
       "  likely means that the widgets JavaScript library is either not installed or\n",
       "  not enabled. See the <a href=\"https://ipywidgets.readthedocs.io/en/stable/user_install.html\">Jupyter\n",
       "  Widgets Documentation</a> for setup instructions.\n",
       "</p>\n",
       "<p>\n",
       "  If you're reading this message in another frontend (for example, a static\n",
       "  rendering on GitHub or <a href=\"https://nbviewer.jupyter.org/\">NBViewer</a>),\n",
       "  it may mean that your frontend doesn't currently support widgets.\n",
       "</p>\n"
      ],
      "text/plain": [
       "interactive(children=(FloatSlider(value=0.25, description='x', max=0.5), Output()), _dom_classes=('widget-interact',))"
      ]
     },
     "metadata": {},
     "output_type": "display_data"
    },
    {
     "name": "stdout",
     "output_type": "stream",
     "text": [
      "\n",
      "\n",
      "Changing Nozzle Diameter\n"
     ]
    },
    {
     "data": {
      "application/vnd.jupyter.widget-view+json": {
       "model_id": "1fac21b7552a45a3ad5756c2871e79a5",
       "version_major": 2,
       "version_minor": 0
      },
      "text/html": [
       "<p>Failed to display Jupyter Widget of type <code>interactive</code>.</p>\n",
       "<p>\n",
       "  If you're reading this message in the Jupyter Notebook or JupyterLab Notebook, it may mean\n",
       "  that the widgets JavaScript is still loading. If this message persists, it\n",
       "  likely means that the widgets JavaScript library is either not installed or\n",
       "  not enabled. See the <a href=\"https://ipywidgets.readthedocs.io/en/stable/user_install.html\">Jupyter\n",
       "  Widgets Documentation</a> for setup instructions.\n",
       "</p>\n",
       "<p>\n",
       "  If you're reading this message in another frontend (for example, a static\n",
       "  rendering on GitHub or <a href=\"https://nbviewer.jupyter.org/\">NBViewer</a>),\n",
       "  it may mean that your frontend doesn't currently support widgets.\n",
       "</p>\n"
      ],
      "text/plain": [
       "interactive(children=(IntSlider(value=280, description='y', max=500, min=60), Output()), _dom_classes=('widget-interact',))"
      ]
     },
     "metadata": {},
     "output_type": "display_data"
    },
    {
     "data": {
      "text/plain": [
       "<function __main__.replots(y)>"
      ]
     },
     "execution_count": 1,
     "metadata": {},
     "output_type": "execute_result"
    }
   ],
   "source": [
    "import tellurium as te\n",
    "import ipywidgets.widgets\n",
    "from ipywidgets.widgets import *\n",
    "import matplotlib.pyplot as plt\n",
    "\n",
    "r = te.loada('''\n",
    "\n",
    "//first valve opens - cue chemical rxn\n",
    "R0: H2O2 -> .5O2 + H2O + Heat1; rxnRate1                                         //Rate\n",
    "R1: C6H6O2 + .5O2 -> H2O + C6H4O2 + Heat2; rxnRate2\n",
    "\n",
    "//flow into nozzle\n",
    "R2: C6H4O2 + 2H2O -> ; nozzleFlowRate                                            //Rate2\n",
    "\n",
    "//general rate\n",
    "Constants = A*e^(E/(R*T))\n",
    "rxnRate1 := (H2O2*Constants)                                                     //mol/second\n",
    "rxnRate2 := (C6H6O2*Constants)                                                   //mol/second\n",
    "\n",
    "//rate out of nozzle \n",
    "nozzleFlowRate := (massLost)*(C6H4O2*H2O)*nozzleVolume * (11.63/1000)            //mol*mm^2/s\n",
    "\n",
    "A = 5*10^7; E = -3.8*10^4; R = 8.314; e = 2.718\n",
    "T := 290 + ((Heat1*H2O2 + Heat2*C6H6O2) / ((89 + 75.3)*((H2O2/34.0147)+(C6H6O2/110.1))))     //K\n",
    "\n",
    "chamberVolume = pi*((600/1000)/2)^2 * (300/1000)                                 //mm^3\n",
    "nozzleVolume = pi*((nozzleDiameter*1000)/2)^2 * (100/1000)                       //mm^3\n",
    "Pulse = 6.7/Discharge                                                            //pulse per millisecond\n",
    "Discharge = 531                                                                  //per second\n",
    "massPerPulse = 1.475*10^-7                                                       //mol\n",
    "massLost = (chosenMass/1000)*3/(2*(18.018) + 108.095)                            //mol\n",
    "\n",
    "C6H6O2 = 2                                                                       //mol\n",
    "H2O2 = 17                                                                        //mol\n",
    "Heat1 = -94.5*1000                                                               //J/mol\n",
    "Heat2 = -108.3*1000                                                              //J/mol\n",
    "nozzleDiameter = 60                                                              //um\n",
    "chosenMass = 0.3                                                                 //grams\n",
    "\n",
    " ''')\n",
    "\n",
    "\n",
    "#a = FloatSlider()\n",
    "#b = FloatSlider()\n",
    "#c = FloatSlider()\n",
    "#ui = HBox([a, b, c])\n",
    "#def f(a, b, c):\n",
    "#    print((a, b, c))\n",
    "#out = interactive_output(f, {'a':a, 'b':b, 'c':c})\n",
    "def replot(x):\n",
    "    r.reset()\n",
    "    r.chosenMass = x\n",
    "    r.simulate(0, 1.5/1000, 500, ['Time', 'R2'])\n",
    "    r.plot()\n",
    "    r.simulate(0, 1.5/1000, 500, ['Time', 'C6H4O2'])\n",
    "    r.plot()\n",
    "print('Changing Mass')\n",
    "interact(replot, x = (0,.5))\n",
    "#display(ui, out)\n",
    "print('')\n",
    "print('')\n",
    "\n",
    "def replots(y):\n",
    "    r.reset()\n",
    "    r.nozzleDiameter = y\n",
    "    r.simulate(0, 1.5/1000, 500, ['Time', 'R2'])\n",
    "    r.plot()\n",
    "    r.simulate(0, 1.5/1000, 500, ['Time', 'C6H4O2'])\n",
    "    r.plot()\n",
    "print('Changing Nozzle Diameter')\n",
    "interact(replots, y = (60, 500))"
   ]
  },
  {
   "cell_type": "code",
   "execution_count": null,
   "metadata": {},
   "outputs": [],
   "source": []
  },
  {
   "cell_type": "code",
   "execution_count": null,
   "metadata": {},
   "outputs": [],
   "source": []
  }
 ],
 "metadata": {
  "kernelspec": {
   "display_name": "Python 3",
   "language": "python",
   "name": "python3"
  },
  "language_info": {
   "codemirror_mode": {
    "name": "ipython",
    "version": 3
   },
   "file_extension": ".py",
   "mimetype": "text/x-python",
   "name": "python",
   "nbconvert_exporter": "python",
   "pygments_lexer": "ipython3",
   "version": "3.6.5"
  }
 },
 "nbformat": 4,
 "nbformat_minor": 2
}
